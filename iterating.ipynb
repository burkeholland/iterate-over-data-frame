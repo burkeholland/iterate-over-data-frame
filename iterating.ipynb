{
 "cells": [
  {
   "cell_type": "markdown",
   "metadata": {},
   "source": [
    "# How to iterate over rows in a DataFrame\n",
    "\n",
    "This notebook demonstrates how to iterate over the rows in a DataFrame, taking into account different sized data sets and leveraging vectorization to realize massive speed gains on \n",
    "large DataFrames.\n",
    "\n",
    "### Goal\n",
    "The goal is to compute the average number _attempts_ to solve the popular [Worlde puzzle game](https://www.nytimes.com/games/wordle/index.html) by examining Wordle scores posted to Twitter.\n",
    "\n",
    "The first data set we work with is small, and has aprox. 17K rows."
   ]
  },
  {
   "cell_type": "code",
   "execution_count": 1,
   "metadata": {},
   "outputs": [],
   "source": [
    "import pandas as pd\n",
    "\n",
    "df_tweets = pd.read_csv('tweetsSmall.csv', delimiter=',', header='infer')"
   ]
  },
  {
   "cell_type": "markdown",
   "metadata": {},
   "source": [
    "The \"tweet_text\" column in the DataFrame contains the text posted to Twitter. We need to pull out the number of attempts out of six by parsing the text in each row.\n",
    "\n",
    "![](images/wordle_score.png)\n",
    "\n",
    "## Iterating with the `iterrows` method\n",
    "\n",
    "The most straightforward way to iterate over a DataFrame is with the `iterrows` method. This iterates over one row at a time."
   ]
  },
  {
   "cell_type": "code",
   "execution_count": 2,
   "metadata": {},
   "outputs": [
    {
     "name": "stdout",
     "output_type": "stream",
     "text": [
      "3.9035848841191916\n"
     ]
    }
   ],
   "source": [
    "for index, row in df_tweets.iterrows():\n",
    "    slashIndex = row['tweet_text'].index('/')\n",
    "    attempts = float(row['tweet_text'][slashIndex-1])\n",
    "    df_tweets.loc[index, 'attempts'] = attempts\n",
    "\n",
    "print(df_tweets[\"attempts\"].mean())\n"
   ]
  },
  {
   "cell_type": "markdown",
   "metadata": {},
   "source": [
    "This works fine for smaller data sets, and can be used when appropriate. However, larger data sets pose a performance problem for `iterrows`, and it should be avoided.\n",
    "\n",
    "Now we'll load 175k rows into the DataFrame and run the `iterrows` method again to loop over the data."
   ]
  },
  {
   "cell_type": "code",
   "execution_count": 3,
   "metadata": {},
   "outputs": [],
   "source": [
    "df_tweets = pd.read_csv('tweetsBig.csv', delimiter=',', header='infer')"
   ]
  },
  {
   "cell_type": "code",
   "execution_count": 4,
   "metadata": {},
   "outputs": [
    {
     "name": "stdout",
     "output_type": "stream",
     "text": [
      "4.067405564351956\n"
     ]
    }
   ],
   "source": [
    "for index, row in df_tweets.iterrows():\n",
    "    slashIndex = row['tweet_text'].index('/')\n",
    "    attempts = float(row['tweet_text'][slashIndex-1])\n",
    "    df_tweets.loc[index, 'attempts'] = attempts\n",
    "\n",
    "print(df_tweets[\"attempts\"].mean())\n"
   ]
  },
  {
   "cell_type": "markdown",
   "metadata": {},
   "source": []
  },
  {
   "cell_type": "markdown",
   "metadata": {},
   "source": [
    "This time the execution takes over 40 seconds. For this reason, `iterrows` should be avoided on large DataSets. Instead, use vectorized methods.\n",
    "\n",
    "## About Vectorization\n",
    "\n",
    "Vectorization refers to featuers in Pandas and Python that are optimized to run operations on multiple rows at one time taking full advantage of your CPU. This makes them orders of magnitude faster and should almost always be preferred over `iterrows`.\n",
    "\n",
    "### Series Apply\n",
    "\n",
    "The \"Series Apply\" is a vectorized method in Pandas that will apply a function to a series (column) of data and will return a series (column) of data. In the following example, we use this to create a function which will be \"applied\" to the \"tweet_text\" column in the DataFrame and return a new column that contains the attempts."
   ]
  },
  {
   "cell_type": "code",
   "execution_count": 5,
   "metadata": {},
   "outputs": [
    {
     "name": "stdout",
     "output_type": "stream",
     "text": [
      "4.067405564351956\n"
     ]
    }
   ],
   "source": [
    "def count_attempts_apply(tweet_text_series: str) -> float:\n",
    "    slashIndex = tweet_text_series.index('/')\n",
    "    attempts = float(tweet_text_series[slashIndex-1])\n",
    "    return attempts\n",
    "\n",
    "df_tweets['attempts'] = df_tweets['tweet_text'].apply(count_attempts_apply)\n",
    "\n",
    "print(df_tweets[\"attempts\"].mean())\n"
   ]
  },
  {
   "cell_type": "markdown",
   "metadata": {},
   "source": [
    "This method runs sub second compared to the 45+ seconds with `iterrows`."
   ]
  }
 ],
 "metadata": {
  "interpreter": {
   "hash": "f3d0311791269c0d529e69ddb49e10e0b14f887f28d32669181a0b22484bc0d3"
  },
  "kernelspec": {
   "display_name": "Python 3.8.8 ('base')",
   "language": "python",
   "name": "python3"
  },
  "language_info": {
   "codemirror_mode": {
    "name": "ipython",
    "version": 3
   },
   "file_extension": ".py",
   "mimetype": "text/x-python",
   "name": "python",
   "nbconvert_exporter": "python",
   "pygments_lexer": "ipython3",
   "version": "3.9.7"
  },
  "orig_nbformat": 4
 },
 "nbformat": 4,
 "nbformat_minor": 2
}
